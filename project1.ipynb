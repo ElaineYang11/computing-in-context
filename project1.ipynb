{
 "cells": [
  {
   "cell_type": "markdown",
   "id": "8a44ffae-b2d5-49cf-97f8-4796fe020eb3",
   "metadata": {},
   "source": [
    "## Project 1\n",
    "\n",
    "Using pandas:\n",
    "Read in the data.\n",
    "Compute mean, median, mode."
   ]
  },
  {
   "cell_type": "code",
   "execution_count": 16,
   "id": "788e2117-2c3a-4805-baf3-08ac25a50427",
   "metadata": {},
   "outputs": [],
   "source": [
    "import plotly.io as pio\n",
    "\n",
    "pio.renderers.default = \"vscode+jupyterlab+notebook_connected\""
   ]
  },
  {
   "cell_type": "code",
   "execution_count": 18,
   "id": "8c807944-0a9f-4790-b684-e22ff490fa55",
   "metadata": {},
   "outputs": [],
   "source": [
    "import pandas as pd"
   ]
  },
  {
   "cell_type": "code",
   "execution_count": 20,
   "id": "71d2db9e-e1bc-4567-b53c-8c7a276fbba7",
   "metadata": {},
   "outputs": [
    {
     "name": "stdout",
     "output_type": "stream",
     "text": [
      "Mean: 67.42824031205222\n",
      "Median: 43.79\n",
      "Mode: 0    25.00\n",
      "1    28.00\n",
      "2    34.91\n",
      "Name: Close Price, dtype: float64\n"
     ]
    }
   ],
   "source": [
    "# Load my dataset\n",
    "disney_data = pd.read_csv('disney.csv')\n",
    "\n",
    "# Pick the Close Price column for analysis\n",
    "close_price = disney_data['Close Price']\n",
    "\n",
    "mean_pandas = close_price.mean()\n",
    "median_pandas = close_price.median()\n",
    "mode_pandas = close_price.mode()\n",
    "\n",
    "print(f\"Mean: {mean_pandas}\")\n",
    "print(f\"Median: {median_pandas}\")\n",
    "print(f\"Mode: {mode_pandas}\")"
   ]
  },
  {
   "cell_type": "markdown",
   "id": "e445dbd3-165a-4bfd-aaeb-93a33b1bca5d",
   "metadata": {},
   "source": [
    "Repeat the previous step using only the Python standard library"
   ]
  },
  {
   "cell_type": "code",
   "execution_count": 23,
   "id": "e732a2f5-355c-4760-896b-4c958b9e8d99",
   "metadata": {},
   "outputs": [],
   "source": [
    "from statistics import mean, median, mode\n",
    "from collections import Counter"
   ]
  },
  {
   "cell_type": "code",
   "execution_count": 25,
   "id": "3f032a24-3b0b-4bf2-845b-d3dfc0e99d8b",
   "metadata": {},
   "outputs": [
    {
     "name": "stdout",
     "output_type": "stream",
     "text": [
      "Mean: 67.42824031205222\n",
      "Median: 43.79\n",
      "Mode: [28.0, 25.0, 34.91]\n"
     ]
    }
   ],
   "source": [
    "close_price_list = list(close_price)\n",
    "\n",
    "# Calculate mean and median\n",
    "mean_standard = mean(close_price_list)\n",
    "median_standard = median(close_price_list)\n",
    "\n",
    "# Calculate mode\n",
    "counts = Counter(close_price_list)\n",
    "max_count = max(counts.values())\n",
    "mode_standard = [value for value, count in counts.items() if count == max_count]\n",
    "\n",
    "print(f\"Mean: {mean_standard}\")\n",
    "print(f\"Median: {median_standard}\")\n",
    "print(f\"Mode: {mode_standard}\")"
   ]
  },
  {
   "cell_type": "markdown",
   "id": "90aef22d-81f2-434b-b5d2-1098b61e27cf",
   "metadata": {},
   "source": [
    "Create a data visualization, following the instructions below."
   ]
  },
  {
   "cell_type": "code",
   "execution_count": 28,
   "id": "37946dd0-e77e-4ff3-b5b5-e9dd5dbf0a89",
   "metadata": {},
   "outputs": [
    {
     "name": "stdout",
     "output_type": "stream",
     "text": [
      "13.77 - 32.58: ************************************************** (2107)\n",
      "32.58 - 51.40: ***************************** (1186)\n",
      "51.40 - 70.21: ****** (252)\n",
      "70.21 - 89.03: ******** (324)\n",
      "89.03 - 107.84: *************************** (1132)\n",
      "107.84 - 126.65: **************** (657)\n",
      "126.65 - 145.47: ******* (284)\n",
      "145.47 - 164.28: *** (109)\n",
      "164.28 - 183.10: **** (159)\n",
      "183.10 - 201.91: ** (71)\n"
     ]
    }
   ],
   "source": [
    "import math\n",
    "\n",
    "def print_histogram(data, bins=10, max_stars=50):\n",
    "    min_value = min(data)\n",
    "    max_value = max(data)\n",
    "    \n",
    "    # Bin width\n",
    "    bin_width = (max_value - min_value) / bins\n",
    "    bin_ranges = [(min_value + i * bin_width, min_value + (i + 1) * bin_width) for i in range(bins)]\n",
    "    \n",
    "    # Count how many data points fall into each bin\n",
    "    bin_counts = [0] * bins\n",
    "    for value in data:\n",
    "        bin_index = min(int((value - min_value) / bin_width), bins - 1)\n",
    "        bin_counts[bin_index] += 1\n",
    "    max_count = max(bin_counts)\n",
    "    \n",
    "    # Print the histogram with proportional stars\n",
    "    for i, (bin_range, count) in enumerate(zip(bin_ranges, bin_counts)):\n",
    "        num_stars = math.ceil((count / max_count) * max_stars) if max_count > 0 else 0\n",
    "        bar = '*' * num_stars\n",
    "        print(f\"{bin_range[0]:.2f} - {bin_range[1]:.2f}: {bar} ({count})\")\n",
    "\n",
    "close_price_list = disney_data['Close Price'].tolist()\n",
    "print_histogram(close_price_list)\n"
   ]
  }
 ],
 "metadata": {
  "kernelspec": {
   "display_name": "Python 3 (ipykernel)",
   "language": "python",
   "name": "python3"
  },
  "language_info": {
   "codemirror_mode": {
    "name": "ipython",
    "version": 3
   },
   "file_extension": ".py",
   "mimetype": "text/x-python",
   "name": "python",
   "nbconvert_exporter": "python",
   "pygments_lexer": "ipython3",
   "version": "3.12.4"
  }
 },
 "nbformat": 4,
 "nbformat_minor": 5
}
