{
 "cells": [
  {
   "cell_type": "markdown",
   "id": "aad6eb23-3ad8-4457-abf5-f856747e31af",
   "metadata": {},
   "source": [
    "# Welcome to My Project 3 Website!\n",
    "\n",
    "This site contains my projects for [Computing in Context](https://computing-in-context.afeld.me/index.html). \n",
    "\n",
    "Explore the pages below:\n",
    "\n",
    "- [Project 1](http://localhost:8888/lab/tree/project1.ipynb)\n",
    "- [Project 2](http://localhost:8888/lab/tree/project2.ipynb)"
   ]
  }
 ],
 "metadata": {
  "kernelspec": {
   "display_name": "Python 3 (ipykernel)",
   "language": "python",
   "name": "python3"
  },
  "language_info": {
   "codemirror_mode": {
    "name": "ipython",
    "version": 3
   },
   "file_extension": ".py",
   "mimetype": "text/x-python",
   "name": "python",
   "nbconvert_exporter": "python",
   "pygments_lexer": "ipython3",
   "version": "3.12.4"
  }
 },
 "nbformat": 4,
 "nbformat_minor": 5
}
